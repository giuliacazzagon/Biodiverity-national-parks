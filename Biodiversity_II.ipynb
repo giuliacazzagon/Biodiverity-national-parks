{
 "cells": [
  {
   "cell_type": "markdown",
   "id": "664cc875",
   "metadata": {},
   "source": [
    "# Introduction\n",
    "\n",
    "### Project goals\n",
    "\n",
    "This goal of this project is to analyze biodiversity data from the National Parks Service, particularly around various species observed in different national park locations.\n",
    "\n",
    "This project will try to answer the following questions:\n",
    "\n",
    "+ What is the distribution of conservation status for species?\n",
    "+ Are certain types of species more likely to be endangered?\n",
    "+ Which animal is most prevalent and what is their distribution amongst parks?\n",
    "\n",
    "**Data sources:**\n",
    "\n",
    "Both `Observations.csv` and `Species_info.csv` was provided by [Codecademy.com](https://www.codecademy.com).\n",
    "\n",
    "Note: The data for this project is *inspired* by real data, but is mostly fictional.\n",
    "\n",
    "### Project structure\n",
    "\n",
    "The project is divided in the following sections:\n",
    "- **Import Python modules**: import modules that will be necessary for the project\n",
    "- **Loading the Data**: load data into dataframes and have a glance at the data\n",
    "- **Cleaning the Data**: check for null values, duplicates, data types and change specific names if necessary\n",
    "- **Analysis**: explore data, make data visualization and answer questions of project goals \n",
    "- **Summary**:"
   ]
  },
  {
   "cell_type": "markdown",
   "id": "3717b4bb",
   "metadata": {},
   "source": [
    "# Import Python modules\n",
    "\n",
    "Import primary modules that will be used in the project:"
   ]
  },
  {
   "cell_type": "code",
   "execution_count": 60,
   "id": "f7321b67",
   "metadata": {},
   "outputs": [],
   "source": [
    "import pandas as pd\n",
    "import numpy as np\n",
    "import seaborn as sns\n",
    "import matplotlib.pyplot as plt\n",
    "from pandas.api.types import CategoricalDtype\n",
    "\n",
    "import warnings\n",
    "warnings.filterwarnings(\"ignore\")"
   ]
  },
  {
   "cell_type": "markdown",
   "id": "b0f6c52d",
   "metadata": {},
   "source": [
    "# Loading the Data\n",
    "\n",
    "There are two datasets used in this project:\n",
    "\n",
    "+ `species_info.csv` - contains data about different species and their conservation status\n",
    "+ `observations.csv` - holds recorded sightings of different species at several national parks for the past 7 days.\n",
    "\n",
    "The datasets are called `species` and `obeservations`, respectively."
   ]
  },
  {
   "cell_type": "code",
   "execution_count": 61,
   "id": "2997bbb5",
   "metadata": {},
   "outputs": [],
   "source": [
    "species = pd.read_csv('species_info.csv')\n",
    "observations = pd.read_csv('observations.csv')"
   ]
  },
  {
   "cell_type": "markdown",
   "id": "8bbfbeee",
   "metadata": {},
   "source": [
    "The `species` dataset contains the following columns:\n",
    "\n",
    "- **category** - The category of taxonomy for each species\n",
    "- **scientific_name** - The scientific name of each species\n",
    "- **common_names** - The common names of each species\n",
    "- **conservation_status** - The species conservation status"
   ]
  },
  {
   "cell_type": "code",
   "execution_count": 62,
   "id": "05b03ff2",
   "metadata": {},
   "outputs": [
    {
     "data": {
      "text/html": [
       "<div>\n",
       "<style scoped>\n",
       "    .dataframe tbody tr th:only-of-type {\n",
       "        vertical-align: middle;\n",
       "    }\n",
       "\n",
       "    .dataframe tbody tr th {\n",
       "        vertical-align: top;\n",
       "    }\n",
       "\n",
       "    .dataframe thead th {\n",
       "        text-align: right;\n",
       "    }\n",
       "</style>\n",
       "<table border=\"1\" class=\"dataframe\">\n",
       "  <thead>\n",
       "    <tr style=\"text-align: right;\">\n",
       "      <th></th>\n",
       "      <th>category</th>\n",
       "      <th>scientific_name</th>\n",
       "      <th>common_names</th>\n",
       "      <th>conservation_status</th>\n",
       "    </tr>\n",
       "  </thead>\n",
       "  <tbody>\n",
       "    <tr>\n",
       "      <th>0</th>\n",
       "      <td>Mammal</td>\n",
       "      <td>Clethrionomys gapperi gapperi</td>\n",
       "      <td>Gapper's Red-Backed Vole</td>\n",
       "      <td>NaN</td>\n",
       "    </tr>\n",
       "    <tr>\n",
       "      <th>1</th>\n",
       "      <td>Mammal</td>\n",
       "      <td>Bos bison</td>\n",
       "      <td>American Bison, Bison</td>\n",
       "      <td>NaN</td>\n",
       "    </tr>\n",
       "    <tr>\n",
       "      <th>2</th>\n",
       "      <td>Mammal</td>\n",
       "      <td>Bos taurus</td>\n",
       "      <td>Aurochs, Aurochs, Domestic Cattle (Feral), Dom...</td>\n",
       "      <td>NaN</td>\n",
       "    </tr>\n",
       "    <tr>\n",
       "      <th>3</th>\n",
       "      <td>Mammal</td>\n",
       "      <td>Ovis aries</td>\n",
       "      <td>Domestic Sheep, Mouflon, Red Sheep, Sheep (Feral)</td>\n",
       "      <td>NaN</td>\n",
       "    </tr>\n",
       "    <tr>\n",
       "      <th>4</th>\n",
       "      <td>Mammal</td>\n",
       "      <td>Cervus elaphus</td>\n",
       "      <td>Wapiti Or Elk</td>\n",
       "      <td>NaN</td>\n",
       "    </tr>\n",
       "  </tbody>\n",
       "</table>\n",
       "</div>"
      ],
      "text/plain": [
       "  category                scientific_name  \\\n",
       "0   Mammal  Clethrionomys gapperi gapperi   \n",
       "1   Mammal                      Bos bison   \n",
       "2   Mammal                     Bos taurus   \n",
       "3   Mammal                     Ovis aries   \n",
       "4   Mammal                 Cervus elaphus   \n",
       "\n",
       "                                        common_names conservation_status  \n",
       "0                           Gapper's Red-Backed Vole                 NaN  \n",
       "1                              American Bison, Bison                 NaN  \n",
       "2  Aurochs, Aurochs, Domestic Cattle (Feral), Dom...                 NaN  \n",
       "3  Domestic Sheep, Mouflon, Red Sheep, Sheep (Feral)                 NaN  \n",
       "4                                      Wapiti Or Elk                 NaN  "
      ]
     },
     "execution_count": 62,
     "metadata": {},
     "output_type": "execute_result"
    }
   ],
   "source": [
    "species.head()"
   ]
  },
  {
   "cell_type": "markdown",
   "id": "4f025569",
   "metadata": {},
   "source": [
    "In `species` there are 7 unique categories, and 4 conservation status. Furthermore, some common names are repeated, suggesting the presence of replicates or mistakes."
   ]
  },
  {
   "cell_type": "code",
   "execution_count": 63,
   "id": "9867a276",
   "metadata": {},
   "outputs": [
    {
     "data": {
      "text/html": [
       "<div>\n",
       "<style scoped>\n",
       "    .dataframe tbody tr th:only-of-type {\n",
       "        vertical-align: middle;\n",
       "    }\n",
       "\n",
       "    .dataframe tbody tr th {\n",
       "        vertical-align: top;\n",
       "    }\n",
       "\n",
       "    .dataframe thead th {\n",
       "        text-align: right;\n",
       "    }\n",
       "</style>\n",
       "<table border=\"1\" class=\"dataframe\">\n",
       "  <thead>\n",
       "    <tr style=\"text-align: right;\">\n",
       "      <th></th>\n",
       "      <th>category</th>\n",
       "      <th>scientific_name</th>\n",
       "      <th>common_names</th>\n",
       "      <th>conservation_status</th>\n",
       "    </tr>\n",
       "  </thead>\n",
       "  <tbody>\n",
       "    <tr>\n",
       "      <th>count</th>\n",
       "      <td>5824</td>\n",
       "      <td>5824</td>\n",
       "      <td>5824</td>\n",
       "      <td>191</td>\n",
       "    </tr>\n",
       "    <tr>\n",
       "      <th>unique</th>\n",
       "      <td>7</td>\n",
       "      <td>5541</td>\n",
       "      <td>5504</td>\n",
       "      <td>4</td>\n",
       "    </tr>\n",
       "    <tr>\n",
       "      <th>top</th>\n",
       "      <td>Vascular Plant</td>\n",
       "      <td>Castor canadensis</td>\n",
       "      <td>Brachythecium Moss</td>\n",
       "      <td>Species of Concern</td>\n",
       "    </tr>\n",
       "    <tr>\n",
       "      <th>freq</th>\n",
       "      <td>4470</td>\n",
       "      <td>3</td>\n",
       "      <td>7</td>\n",
       "      <td>161</td>\n",
       "    </tr>\n",
       "  </tbody>\n",
       "</table>\n",
       "</div>"
      ],
      "text/plain": [
       "              category    scientific_name        common_names  \\\n",
       "count             5824               5824                5824   \n",
       "unique               7               5541                5504   \n",
       "top     Vascular Plant  Castor canadensis  Brachythecium Moss   \n",
       "freq              4470                  3                   7   \n",
       "\n",
       "       conservation_status  \n",
       "count                  191  \n",
       "unique                   4  \n",
       "top     Species of Concern  \n",
       "freq                   161  "
      ]
     },
     "execution_count": 63,
     "metadata": {},
     "output_type": "execute_result"
    }
   ],
   "source": [
    "species.describe(include='all')"
   ]
  },
  {
   "cell_type": "markdown",
   "id": "e2947e8b",
   "metadata": {},
   "source": [
    "The `observations` datatset contains the following columns:\n",
    "    \n",
    "- **scientific_name** - The scientific name of each species\n",
    "- **park_name** - The name of the national park\n",
    "- **observations** - The number of observations in the past 7 days    "
   ]
  },
  {
   "cell_type": "code",
   "execution_count": 64,
   "id": "5cc81ad1",
   "metadata": {},
   "outputs": [
    {
     "data": {
      "text/html": [
       "<div>\n",
       "<style scoped>\n",
       "    .dataframe tbody tr th:only-of-type {\n",
       "        vertical-align: middle;\n",
       "    }\n",
       "\n",
       "    .dataframe tbody tr th {\n",
       "        vertical-align: top;\n",
       "    }\n",
       "\n",
       "    .dataframe thead th {\n",
       "        text-align: right;\n",
       "    }\n",
       "</style>\n",
       "<table border=\"1\" class=\"dataframe\">\n",
       "  <thead>\n",
       "    <tr style=\"text-align: right;\">\n",
       "      <th></th>\n",
       "      <th>scientific_name</th>\n",
       "      <th>park_name</th>\n",
       "      <th>observations</th>\n",
       "    </tr>\n",
       "  </thead>\n",
       "  <tbody>\n",
       "    <tr>\n",
       "      <th>0</th>\n",
       "      <td>Vicia benghalensis</td>\n",
       "      <td>Great Smoky Mountains National Park</td>\n",
       "      <td>68</td>\n",
       "    </tr>\n",
       "    <tr>\n",
       "      <th>1</th>\n",
       "      <td>Neovison vison</td>\n",
       "      <td>Great Smoky Mountains National Park</td>\n",
       "      <td>77</td>\n",
       "    </tr>\n",
       "    <tr>\n",
       "      <th>2</th>\n",
       "      <td>Prunus subcordata</td>\n",
       "      <td>Yosemite National Park</td>\n",
       "      <td>138</td>\n",
       "    </tr>\n",
       "    <tr>\n",
       "      <th>3</th>\n",
       "      <td>Abutilon theophrasti</td>\n",
       "      <td>Bryce National Park</td>\n",
       "      <td>84</td>\n",
       "    </tr>\n",
       "    <tr>\n",
       "      <th>4</th>\n",
       "      <td>Githopsis specularioides</td>\n",
       "      <td>Great Smoky Mountains National Park</td>\n",
       "      <td>85</td>\n",
       "    </tr>\n",
       "  </tbody>\n",
       "</table>\n",
       "</div>"
      ],
      "text/plain": [
       "            scientific_name                            park_name  observations\n",
       "0        Vicia benghalensis  Great Smoky Mountains National Park            68\n",
       "1            Neovison vison  Great Smoky Mountains National Park            77\n",
       "2         Prunus subcordata               Yosemite National Park           138\n",
       "3      Abutilon theophrasti                  Bryce National Park            84\n",
       "4  Githopsis specularioides  Great Smoky Mountains National Park            85"
      ]
     },
     "execution_count": 64,
     "metadata": {},
     "output_type": "execute_result"
    }
   ],
   "source": [
    "observations.head()"
   ]
  },
  {
   "cell_type": "markdown",
   "id": "6a94ca5c",
   "metadata": {},
   "source": [
    "There are 23296 observations and 4 national parks."
   ]
  },
  {
   "cell_type": "code",
   "execution_count": 65,
   "id": "7ccdf1e2",
   "metadata": {},
   "outputs": [
    {
     "data": {
      "text/html": [
       "<div>\n",
       "<style scoped>\n",
       "    .dataframe tbody tr th:only-of-type {\n",
       "        vertical-align: middle;\n",
       "    }\n",
       "\n",
       "    .dataframe tbody tr th {\n",
       "        vertical-align: top;\n",
       "    }\n",
       "\n",
       "    .dataframe thead th {\n",
       "        text-align: right;\n",
       "    }\n",
       "</style>\n",
       "<table border=\"1\" class=\"dataframe\">\n",
       "  <thead>\n",
       "    <tr style=\"text-align: right;\">\n",
       "      <th></th>\n",
       "      <th>scientific_name</th>\n",
       "      <th>park_name</th>\n",
       "      <th>observations</th>\n",
       "    </tr>\n",
       "  </thead>\n",
       "  <tbody>\n",
       "    <tr>\n",
       "      <th>count</th>\n",
       "      <td>23296</td>\n",
       "      <td>23296</td>\n",
       "      <td>23296.000000</td>\n",
       "    </tr>\n",
       "    <tr>\n",
       "      <th>unique</th>\n",
       "      <td>5541</td>\n",
       "      <td>4</td>\n",
       "      <td>NaN</td>\n",
       "    </tr>\n",
       "    <tr>\n",
       "      <th>top</th>\n",
       "      <td>Myotis lucifugus</td>\n",
       "      <td>Great Smoky Mountains National Park</td>\n",
       "      <td>NaN</td>\n",
       "    </tr>\n",
       "    <tr>\n",
       "      <th>freq</th>\n",
       "      <td>12</td>\n",
       "      <td>5824</td>\n",
       "      <td>NaN</td>\n",
       "    </tr>\n",
       "    <tr>\n",
       "      <th>mean</th>\n",
       "      <td>NaN</td>\n",
       "      <td>NaN</td>\n",
       "      <td>142.287904</td>\n",
       "    </tr>\n",
       "    <tr>\n",
       "      <th>std</th>\n",
       "      <td>NaN</td>\n",
       "      <td>NaN</td>\n",
       "      <td>69.890532</td>\n",
       "    </tr>\n",
       "    <tr>\n",
       "      <th>min</th>\n",
       "      <td>NaN</td>\n",
       "      <td>NaN</td>\n",
       "      <td>9.000000</td>\n",
       "    </tr>\n",
       "    <tr>\n",
       "      <th>25%</th>\n",
       "      <td>NaN</td>\n",
       "      <td>NaN</td>\n",
       "      <td>86.000000</td>\n",
       "    </tr>\n",
       "    <tr>\n",
       "      <th>50%</th>\n",
       "      <td>NaN</td>\n",
       "      <td>NaN</td>\n",
       "      <td>124.000000</td>\n",
       "    </tr>\n",
       "    <tr>\n",
       "      <th>75%</th>\n",
       "      <td>NaN</td>\n",
       "      <td>NaN</td>\n",
       "      <td>195.000000</td>\n",
       "    </tr>\n",
       "    <tr>\n",
       "      <th>max</th>\n",
       "      <td>NaN</td>\n",
       "      <td>NaN</td>\n",
       "      <td>321.000000</td>\n",
       "    </tr>\n",
       "  </tbody>\n",
       "</table>\n",
       "</div>"
      ],
      "text/plain": [
       "         scientific_name                            park_name  observations\n",
       "count              23296                                23296  23296.000000\n",
       "unique              5541                                    4           NaN\n",
       "top     Myotis lucifugus  Great Smoky Mountains National Park           NaN\n",
       "freq                  12                                 5824           NaN\n",
       "mean                 NaN                                  NaN    142.287904\n",
       "std                  NaN                                  NaN     69.890532\n",
       "min                  NaN                                  NaN      9.000000\n",
       "25%                  NaN                                  NaN     86.000000\n",
       "50%                  NaN                                  NaN    124.000000\n",
       "75%                  NaN                                  NaN    195.000000\n",
       "max                  NaN                                  NaN    321.000000"
      ]
     },
     "execution_count": 65,
     "metadata": {},
     "output_type": "execute_result"
    }
   ],
   "source": [
    "observations.describe(include='all')"
   ]
  },
  {
   "cell_type": "markdown",
   "id": "f913be1d",
   "metadata": {},
   "source": [
    "Find what are the `conservation status` categories."
   ]
  },
  {
   "cell_type": "code",
   "execution_count": 66,
   "id": "5541238a",
   "metadata": {},
   "outputs": [
    {
     "name": "stdout",
     "output_type": "stream",
     "text": [
      "There are 5 categories of conservation status.\n",
      "These categories are: [nan 'Species of Concern' 'Endangered' 'Threatened' 'In Recovery']\n"
     ]
    }
   ],
   "source": [
    "print('There are 5 categories of conservation status.')\n",
    "print('These categories are: {}'.format(species.conservation_status.unique()))"
   ]
  },
  {
   "cell_type": "markdown",
   "id": "9d8815bd",
   "metadata": {},
   "source": [
    "# Cleaning the Data\n",
    "\n",
    "The following tasks will be performed:\n",
    "- Check for null values\n",
    "- Check if columns are assigned to correct data types\n",
    "- Drop duplicates\n",
    "- Change name of specific categories if relevant \n",
    "\n",
    "The first task is to check if dataframe has null values:"
   ]
  },
  {
   "cell_type": "code",
   "execution_count": 67,
   "id": "574b6168",
   "metadata": {},
   "outputs": [
    {
     "name": "stdout",
     "output_type": "stream",
     "text": [
      "<class 'pandas.core.frame.DataFrame'>\n",
      "RangeIndex: 5824 entries, 0 to 5823\n",
      "Data columns (total 4 columns):\n",
      " #   Column               Non-Null Count  Dtype \n",
      "---  ------               --------------  ----- \n",
      " 0   category             5824 non-null   object\n",
      " 1   scientific_name      5824 non-null   object\n",
      " 2   common_names         5824 non-null   object\n",
      " 3   conservation_status  191 non-null    object\n",
      "dtypes: object(4)\n",
      "memory usage: 182.1+ KB\n"
     ]
    }
   ],
   "source": [
    "species.info()"
   ]
  },
  {
   "cell_type": "code",
   "execution_count": 68,
   "id": "288a228e",
   "metadata": {},
   "outputs": [
    {
     "name": "stdout",
     "output_type": "stream",
     "text": [
      "<class 'pandas.core.frame.DataFrame'>\n",
      "RangeIndex: 23296 entries, 0 to 23295\n",
      "Data columns (total 3 columns):\n",
      " #   Column           Non-Null Count  Dtype \n",
      "---  ------           --------------  ----- \n",
      " 0   scientific_name  23296 non-null  object\n",
      " 1   park_name        23296 non-null  object\n",
      " 2   observations     23296 non-null  int64 \n",
      "dtypes: int64(1), object(2)\n",
      "memory usage: 546.1+ KB\n"
     ]
    }
   ],
   "source": [
    "observations.info()"
   ]
  },
  {
   "cell_type": "markdown",
   "id": "4265fd42",
   "metadata": {},
   "source": [
    "The dataset `observatios` does not contain null values at a first looks, while `species` has a lot of null values in the column **conservation_status**. However, this is expected as it means that most species are not threatened or endangered. Therefore, null values in this case will be treated as a 5th category, 'No intervention'."
   ]
  },
  {
   "cell_type": "code",
   "execution_count": 69,
   "id": "52b6ef3c",
   "metadata": {},
   "outputs": [
    {
     "data": {
      "text/plain": [
       "category                 object\n",
       "scientific_name          object\n",
       "common_names             object\n",
       "conservation_status    category\n",
       "dtype: object"
      ]
     },
     "execution_count": 69,
     "metadata": {},
     "output_type": "execute_result"
    }
   ],
   "source": [
    "species.fillna('No intervention', inplace=True)\n",
    "\n",
    "cat_type = CategoricalDtype(categories=['Species of Concern', 'Threatened', 'Endangered', 'In Recovery', 'No intervention'])\n",
    "species.conservation_status = species.conservation_status.astype(cat_type)\n",
    "species.dtypes"
   ]
  },
  {
   "cell_type": "markdown",
   "id": "d512737e",
   "metadata": {},
   "source": [
    "Next, is to check if the data types of columns corresponds with what is expected:"
   ]
  },
  {
   "cell_type": "code",
   "execution_count": 70,
   "id": "c91287fd",
   "metadata": {},
   "outputs": [
    {
     "name": "stdout",
     "output_type": "stream",
     "text": [
      "category                 object\n",
      "scientific_name          object\n",
      "common_names             object\n",
      "conservation_status    category\n",
      "dtype: object\n",
      "scientific_name    object\n",
      "park_name          object\n",
      "observations        int64\n",
      "dtype: object\n"
     ]
    }
   ],
   "source": [
    "print(species.dtypes)\n",
    "print(observations.dtypes)"
   ]
  },
  {
   "cell_type": "markdown",
   "id": "54199d3f",
   "metadata": {},
   "source": [
    "It looks like everything is correct. The only columns that needs to be `integer` is **observations**.\n",
    "\n",
    "As it was observed earlier that the number of records for **scientific_name** does not match **common_names**, this suggests that there are duplicates in the `species` dataframe or there are mistakes and the same **common_name** has been reported multiple times with different names. "
   ]
  },
  {
   "cell_type": "code",
   "execution_count": 71,
   "id": "d2719c65",
   "metadata": {},
   "outputs": [
    {
     "data": {
      "text/html": [
       "<div>\n",
       "<style scoped>\n",
       "    .dataframe tbody tr th:only-of-type {\n",
       "        vertical-align: middle;\n",
       "    }\n",
       "\n",
       "    .dataframe tbody tr th {\n",
       "        vertical-align: top;\n",
       "    }\n",
       "\n",
       "    .dataframe thead th {\n",
       "        text-align: right;\n",
       "    }\n",
       "</style>\n",
       "<table border=\"1\" class=\"dataframe\">\n",
       "  <thead>\n",
       "    <tr style=\"text-align: right;\">\n",
       "      <th></th>\n",
       "      <th>category</th>\n",
       "      <th>scientific_name</th>\n",
       "      <th>common_names</th>\n",
       "      <th>conservation_status</th>\n",
       "    </tr>\n",
       "  </thead>\n",
       "  <tbody>\n",
       "    <tr>\n",
       "      <th>count</th>\n",
       "      <td>5541</td>\n",
       "      <td>5541</td>\n",
       "      <td>5541</td>\n",
       "      <td>5541</td>\n",
       "    </tr>\n",
       "    <tr>\n",
       "      <th>unique</th>\n",
       "      <td>7</td>\n",
       "      <td>5541</td>\n",
       "      <td>5229</td>\n",
       "      <td>5</td>\n",
       "    </tr>\n",
       "    <tr>\n",
       "      <th>top</th>\n",
       "      <td>Vascular Plant</td>\n",
       "      <td>Clethrionomys gapperi gapperi</td>\n",
       "      <td>Brachythecium Moss</td>\n",
       "      <td>No intervention</td>\n",
       "    </tr>\n",
       "    <tr>\n",
       "      <th>freq</th>\n",
       "      <td>4262</td>\n",
       "      <td>1</td>\n",
       "      <td>7</td>\n",
       "      <td>5363</td>\n",
       "    </tr>\n",
       "  </tbody>\n",
       "</table>\n",
       "</div>"
      ],
      "text/plain": [
       "              category                scientific_name        common_names  \\\n",
       "count             5541                           5541                5541   \n",
       "unique               7                           5541                5229   \n",
       "top     Vascular Plant  Clethrionomys gapperi gapperi  Brachythecium Moss   \n",
       "freq              4262                              1                   7   \n",
       "\n",
       "       conservation_status  \n",
       "count                 5541  \n",
       "unique                   5  \n",
       "top        No intervention  \n",
       "freq                  5363  "
      ]
     },
     "execution_count": 71,
     "metadata": {},
     "output_type": "execute_result"
    }
   ],
   "source": [
    "species = species.drop_duplicates(subset='scientific_name')\n",
    "species.describe(include='all')"
   ]
  },
  {
   "cell_type": "markdown",
   "id": "8e7031f2",
   "metadata": {},
   "source": [
    "Since by dropping duplicates nothing changes, it means that there are species with the same **scientific_name** but different **common_names**. As this is not easy to fix, it will be left like this for now."
   ]
  },
  {
   "cell_type": "markdown",
   "id": "78d166c9",
   "metadata": {},
   "source": [
    "Finally, since graphs containing the names of the National Parks and these are very long, here they will be shortened for ease:"
   ]
  },
  {
   "cell_type": "code",
   "execution_count": 72,
   "id": "7b4408a4",
   "metadata": {},
   "outputs": [
    {
     "data": {
      "text/html": [
       "<div>\n",
       "<style scoped>\n",
       "    .dataframe tbody tr th:only-of-type {\n",
       "        vertical-align: middle;\n",
       "    }\n",
       "\n",
       "    .dataframe tbody tr th {\n",
       "        vertical-align: top;\n",
       "    }\n",
       "\n",
       "    .dataframe thead th {\n",
       "        text-align: right;\n",
       "    }\n",
       "</style>\n",
       "<table border=\"1\" class=\"dataframe\">\n",
       "  <thead>\n",
       "    <tr style=\"text-align: right;\">\n",
       "      <th></th>\n",
       "      <th>scientific_name</th>\n",
       "      <th>park_name</th>\n",
       "      <th>observations</th>\n",
       "    </tr>\n",
       "  </thead>\n",
       "  <tbody>\n",
       "    <tr>\n",
       "      <th>0</th>\n",
       "      <td>Vicia benghalensis</td>\n",
       "      <td>GS Mountains</td>\n",
       "      <td>68</td>\n",
       "    </tr>\n",
       "    <tr>\n",
       "      <th>1</th>\n",
       "      <td>Neovison vison</td>\n",
       "      <td>GS Mountains</td>\n",
       "      <td>77</td>\n",
       "    </tr>\n",
       "    <tr>\n",
       "      <th>2</th>\n",
       "      <td>Prunus subcordata</td>\n",
       "      <td>Yosemite</td>\n",
       "      <td>138</td>\n",
       "    </tr>\n",
       "    <tr>\n",
       "      <th>3</th>\n",
       "      <td>Abutilon theophrasti</td>\n",
       "      <td>Bryce</td>\n",
       "      <td>84</td>\n",
       "    </tr>\n",
       "    <tr>\n",
       "      <th>4</th>\n",
       "      <td>Githopsis specularioides</td>\n",
       "      <td>GS Mountains</td>\n",
       "      <td>85</td>\n",
       "    </tr>\n",
       "  </tbody>\n",
       "</table>\n",
       "</div>"
      ],
      "text/plain": [
       "            scientific_name     park_name  observations\n",
       "0        Vicia benghalensis  GS Mountains            68\n",
       "1            Neovison vison  GS Mountains            77\n",
       "2         Prunus subcordata      Yosemite           138\n",
       "3      Abutilon theophrasti         Bryce            84\n",
       "4  Githopsis specularioides  GS Mountains            85"
      ]
     },
     "execution_count": 72,
     "metadata": {},
     "output_type": "execute_result"
    }
   ],
   "source": [
    "observations.replace({'Bryce National Park':'Bryce', 'Great Smoky Mountains National Park':'GS Mountains',\\\n",
    "               'Yellowstone National Park':'Yellowstone', 'Yosemite National Park':'Yosemite'}, inplace=True)\n",
    "observations.head()"
   ]
  },
  {
   "cell_type": "markdown",
   "id": "c09f0faa",
   "metadata": {},
   "source": [
    "# Analysis\n",
    "\n",
    "The project was st up to answer the following questions: \n",
    "\n",
    "+ What is the distribution of conservation status for species?\n",
    "+ Are certain types of species more likely to be endangered?\n",
    "+ Which animal is most prevalent and what is their distribution amongst parks?\n",
    "\n",
    "### What is the distribution of conservation status for species?\n",
    "\n",
    "To answer this question, the `conservation_status` column in `species`will be explored. \n",
    "\n",
    "The column `conservation_status` has several possible values:\n",
    "- `Species of Concern`: declining or appear to be in need of conservation\n",
    "- `Threatened`: vulnerable to endangerment in the near future\n",
    "- `Endangered`: seriously at risk of extinction\n",
    "- `In Recovery`: formerly `Endangered`, but currently neither in danger of extinction throughout all or a significant portion of its range"
   ]
  },
  {
   "cell_type": "code",
   "execution_count": 73,
   "id": "ef536485",
   "metadata": {},
   "outputs": [
    {
     "data": {
      "text/plain": [
       "No intervention       5363\n",
       "Species of Concern     151\n",
       "Endangered              15\n",
       "Threatened               9\n",
       "In Recovery              3\n",
       "Name: conservation_status, dtype: int64"
      ]
     },
     "execution_count": 73,
     "metadata": {},
     "output_type": "execute_result"
    }
   ],
   "source": [
    "count_conservation = species.conservation_status.value_counts()\n",
    "count_conservation"
   ]
  },
  {
   "cell_type": "markdown",
   "id": "57288ee4",
   "metadata": {},
   "source": [
    "Next is to check the different species categories nested in the conservation_status. This will be done with a table and a chart. "
   ]
  },
  {
   "cell_type": "code",
   "execution_count": 74,
   "id": "f01438f7",
   "metadata": {},
   "outputs": [
    {
     "data": {
      "text/html": [
       "<div>\n",
       "<style scoped>\n",
       "    .dataframe tbody tr th:only-of-type {\n",
       "        vertical-align: middle;\n",
       "    }\n",
       "\n",
       "    .dataframe tbody tr th {\n",
       "        vertical-align: top;\n",
       "    }\n",
       "\n",
       "    .dataframe thead th {\n",
       "        text-align: right;\n",
       "    }\n",
       "</style>\n",
       "<table border=\"1\" class=\"dataframe\">\n",
       "  <thead>\n",
       "    <tr style=\"text-align: right;\">\n",
       "      <th>category</th>\n",
       "      <th>Amphibian</th>\n",
       "      <th>Bird</th>\n",
       "      <th>Fish</th>\n",
       "      <th>Mammal</th>\n",
       "      <th>Nonvascular Plant</th>\n",
       "      <th>Reptile</th>\n",
       "      <th>Vascular Plant</th>\n",
       "    </tr>\n",
       "    <tr>\n",
       "      <th>conservation_status</th>\n",
       "      <th></th>\n",
       "      <th></th>\n",
       "      <th></th>\n",
       "      <th></th>\n",
       "      <th></th>\n",
       "      <th></th>\n",
       "      <th></th>\n",
       "    </tr>\n",
       "  </thead>\n",
       "  <tbody>\n",
       "    <tr>\n",
       "      <th>Species of Concern</th>\n",
       "      <td>4</td>\n",
       "      <td>68</td>\n",
       "      <td>4</td>\n",
       "      <td>22</td>\n",
       "      <td>5</td>\n",
       "      <td>5</td>\n",
       "      <td>43</td>\n",
       "    </tr>\n",
       "    <tr>\n",
       "      <th>Threatened</th>\n",
       "      <td>2</td>\n",
       "      <td>0</td>\n",
       "      <td>3</td>\n",
       "      <td>2</td>\n",
       "      <td>0</td>\n",
       "      <td>0</td>\n",
       "      <td>2</td>\n",
       "    </tr>\n",
       "    <tr>\n",
       "      <th>Endangered</th>\n",
       "      <td>1</td>\n",
       "      <td>4</td>\n",
       "      <td>3</td>\n",
       "      <td>6</td>\n",
       "      <td>0</td>\n",
       "      <td>0</td>\n",
       "      <td>1</td>\n",
       "    </tr>\n",
       "    <tr>\n",
       "      <th>In Recovery</th>\n",
       "      <td>0</td>\n",
       "      <td>3</td>\n",
       "      <td>0</td>\n",
       "      <td>0</td>\n",
       "      <td>0</td>\n",
       "      <td>0</td>\n",
       "      <td>0</td>\n",
       "    </tr>\n",
       "  </tbody>\n",
       "</table>\n",
       "</div>"
      ],
      "text/plain": [
       "category             Amphibian  Bird  Fish  Mammal  Nonvascular Plant  \\\n",
       "conservation_status                                                     \n",
       "Species of Concern           4    68     4      22                  5   \n",
       "Threatened                   2     0     3       2                  0   \n",
       "Endangered                   1     4     3       6                  0   \n",
       "In Recovery                  0     3     0       0                  0   \n",
       "\n",
       "category             Reptile  Vascular Plant  \n",
       "conservation_status                           \n",
       "Species of Concern         5              43  \n",
       "Threatened                 0               2  \n",
       "Endangered                 0               1  \n",
       "In Recovery                0               0  "
      ]
     },
     "execution_count": 74,
     "metadata": {},
     "output_type": "execute_result"
    }
   ],
   "source": [
    "conservation_cat = species[species['conservation_status'] != 'No intervention']\\\n",
    "    .groupby(['conservation_status', 'category']).scientific_name\\\n",
    "    .count()\\\n",
    "    .unstack()\n",
    "\n",
    "conservation_cat[0:4]"
   ]
  },
  {
   "cell_type": "code",
   "execution_count": 75,
   "id": "47b94dd9",
   "metadata": {
    "scrolled": true
   },
   "outputs": [
    {
     "data": {
      "text/plain": [
       "Text(0, 0.5, 'Number of species')"
      ]
     },
     "execution_count": 75,
     "metadata": {},
     "output_type": "execute_result"
    },
    {
     "data": {
      "image/png": "[encoded data removed]",
      "text/plain": [
       "<Figure size 800x600 with 1 Axes>"
      ]
     },
     "metadata": {},
     "output_type": "display_data"
    }
   ],
   "source": [
    "ax = conservation_cat[0:4].plot(kind='bar', figsize=(8, 6), stacked=True)\n",
    "ax.set_xlabel('Conservation status')\n",
    "ax.set_ylabel('Number of species')"
   ]
  },
  {
   "cell_type": "markdown",
   "id": "b76ab6a1",
   "metadata": {},
   "source": [
    "**Summary:** Species of concern constitutes the biggest category, but overall the majority of species does not have a consrv. status. Whithin this category, birds are the biggest category of species, followed by vascular plants and mammals. Mammal is the most numerous category in Endangered species, while Birds are the only including species In recovery."
   ]
  },
  {
   "cell_type": "markdown",
   "id": "62307fd6",
   "metadata": {},
   "source": [
    "### Which class of animal is more prevalent?\n",
    "\n",
    "To address this question, the dataframes `species` and `observations` are first merged."
   ]
  },
  {
   "cell_type": "code",
   "execution_count": 80,
   "id": "7b4340ff",
   "metadata": {},
   "outputs": [
    {
     "data": {
      "text/html": [
       "<div>\n",
       "<style scoped>\n",
       "    .dataframe tbody tr th:only-of-type {\n",
       "        vertical-align: middle;\n",
       "    }\n",
       "\n",
       "    .dataframe tbody tr th {\n",
       "        vertical-align: top;\n",
       "    }\n",
       "\n",
       "    .dataframe thead th {\n",
       "        text-align: right;\n",
       "    }\n",
       "</style>\n",
       "<table border=\"1\" class=\"dataframe\">\n",
       "  <thead>\n",
       "    <tr style=\"text-align: right;\">\n",
       "      <th></th>\n",
       "      <th>scientific_name</th>\n",
       "      <th>park_name</th>\n",
       "      <th>observations</th>\n",
       "      <th>category</th>\n",
       "      <th>common_names</th>\n",
       "      <th>conservation_status</th>\n",
       "    </tr>\n",
       "  </thead>\n",
       "  <tbody>\n",
       "    <tr>\n",
       "      <th>0</th>\n",
       "      <td>Vicia benghalensis</td>\n",
       "      <td>GS Mountains</td>\n",
       "      <td>68</td>\n",
       "      <td>Vascular Plant</td>\n",
       "      <td>Purple Vetch, Reddish Tufted Vetch</td>\n",
       "      <td>No intervention</td>\n",
       "    </tr>\n",
       "    <tr>\n",
       "      <th>1</th>\n",
       "      <td>Neovison vison</td>\n",
       "      <td>GS Mountains</td>\n",
       "      <td>77</td>\n",
       "      <td>Mammal</td>\n",
       "      <td>American Mink</td>\n",
       "      <td>No intervention</td>\n",
       "    </tr>\n",
       "    <tr>\n",
       "      <th>2</th>\n",
       "      <td>Prunus subcordata</td>\n",
       "      <td>Yosemite</td>\n",
       "      <td>138</td>\n",
       "      <td>Vascular Plant</td>\n",
       "      <td>Klamath Plum</td>\n",
       "      <td>No intervention</td>\n",
       "    </tr>\n",
       "    <tr>\n",
       "      <th>3</th>\n",
       "      <td>Abutilon theophrasti</td>\n",
       "      <td>Bryce</td>\n",
       "      <td>84</td>\n",
       "      <td>Vascular Plant</td>\n",
       "      <td>Velvetleaf</td>\n",
       "      <td>No intervention</td>\n",
       "    </tr>\n",
       "    <tr>\n",
       "      <th>4</th>\n",
       "      <td>Githopsis specularioides</td>\n",
       "      <td>GS Mountains</td>\n",
       "      <td>85</td>\n",
       "      <td>Vascular Plant</td>\n",
       "      <td>Common Bluecup</td>\n",
       "      <td>No intervention</td>\n",
       "    </tr>\n",
       "  </tbody>\n",
       "</table>\n",
       "</div>"
      ],
      "text/plain": [
       "            scientific_name     park_name  observations        category  \\\n",
       "0        Vicia benghalensis  GS Mountains            68  Vascular Plant   \n",
       "1            Neovison vison  GS Mountains            77          Mammal   \n",
       "2         Prunus subcordata      Yosemite           138  Vascular Plant   \n",
       "3      Abutilon theophrasti         Bryce            84  Vascular Plant   \n",
       "4  Githopsis specularioides  GS Mountains            85  Vascular Plant   \n",
       "\n",
       "                         common_names conservation_status  \n",
       "0  Purple Vetch, Reddish Tufted Vetch     No intervention  \n",
       "1                       American Mink     No intervention  \n",
       "2                        Klamath Plum     No intervention  \n",
       "3                          Velvetleaf     No intervention  \n",
       "4                      Common Bluecup     No intervention  "
      ]
     },
     "execution_count": 80,
     "metadata": {},
     "output_type": "execute_result"
    }
   ],
   "source": [
    "merge = pd.merge(left=observations, right=species, on='scientific_name', how='left')\n",
    "merge.head()"
   ]
  },
  {
   "cell_type": "markdown",
   "id": "d83edb9d",
   "metadata": {},
   "source": [
    "Then a new dataframe is created, which only contains animals and not plants. After that the number of species per category are counted."
   ]
  },
  {
   "cell_type": "code",
   "execution_count": 81,
   "id": "30b9cc30",
   "metadata": {},
   "outputs": [
    {
     "data": {
      "text/plain": [
       "array(['Mammal', 'Bird', 'Amphibian', 'Reptile', 'Fish'], dtype=object)"
      ]
     },
     "execution_count": 81,
     "metadata": {},
     "output_type": "execute_result"
    }
   ],
   "source": [
    "animals = merge.loc[(merge['category'] != 'Vascular Plant') & (merge['category'] != 'Nonvascular Plant')]\n",
    "animals.category.unique()"
   ]
  },
  {
   "cell_type": "code",
   "execution_count": 82,
   "id": "092713e0",
   "metadata": {
    "scrolled": true
   },
   "outputs": [
    {
     "data": {
      "text/plain": [
       "category\n",
       "Amphibian     320\n",
       "Bird         2084\n",
       "Fish          508\n",
       "Mammal        856\n",
       "Reptile       316\n",
       "Name: common_names, dtype: int64"
      ]
     },
     "execution_count": 82,
     "metadata": {},
     "output_type": "execute_result"
    }
   ],
   "source": [
    "animals.groupby('category').common_names.count()"
   ]
  },
  {
   "cell_type": "markdown",
   "id": "5cb1cd27",
   "metadata": {},
   "source": [
    "At this point, it is useful to create a new column with only the last part of the common animal name (eg. gull, bat, deer).\n",
    "To do so, the common name is split on the space between the two words and only the second name is taken to fill the new column. It is needed to check at this point if there are mistakes in the names, and the mistakes are corrected manually."
   ]
  },
  {
   "cell_type": "code",
   "execution_count": 83,
   "id": "7a9f5448",
   "metadata": {},
   "outputs": [
    {
     "data": {
      "text/html": [
       "<div>\n",
       "<style scoped>\n",
       "    .dataframe tbody tr th:only-of-type {\n",
       "        vertical-align: middle;\n",
       "    }\n",
       "\n",
       "    .dataframe tbody tr th {\n",
       "        vertical-align: top;\n",
       "    }\n",
       "\n",
       "    .dataframe thead th {\n",
       "        text-align: right;\n",
       "    }\n",
       "</style>\n",
       "<table border=\"1\" class=\"dataframe\">\n",
       "  <thead>\n",
       "    <tr style=\"text-align: right;\">\n",
       "      <th></th>\n",
       "      <th>scientific_name</th>\n",
       "      <th>park_name</th>\n",
       "      <th>observations</th>\n",
       "      <th>category</th>\n",
       "      <th>common_names</th>\n",
       "      <th>conservation_status</th>\n",
       "      <th>last_names</th>\n",
       "    </tr>\n",
       "  </thead>\n",
       "  <tbody>\n",
       "    <tr>\n",
       "      <th>1</th>\n",
       "      <td>Neovison vison</td>\n",
       "      <td>GS Mountains</td>\n",
       "      <td>77</td>\n",
       "      <td>Mammal</td>\n",
       "      <td>American Mink</td>\n",
       "      <td>No intervention</td>\n",
       "      <td>Mink</td>\n",
       "    </tr>\n",
       "    <tr>\n",
       "      <th>6</th>\n",
       "      <td>Spizella pusilla</td>\n",
       "      <td>Yellowstone</td>\n",
       "      <td>228</td>\n",
       "      <td>Bird</td>\n",
       "      <td>Field Sparrow</td>\n",
       "      <td>No intervention</td>\n",
       "      <td>Sparrow</td>\n",
       "    </tr>\n",
       "    <tr>\n",
       "      <th>11</th>\n",
       "      <td>Cistothorus platensis</td>\n",
       "      <td>Bryce</td>\n",
       "      <td>114</td>\n",
       "      <td>Bird</td>\n",
       "      <td>Sedge Wren</td>\n",
       "      <td>No intervention</td>\n",
       "      <td>Wren</td>\n",
       "    </tr>\n",
       "    <tr>\n",
       "      <th>23</th>\n",
       "      <td>Larus philadelphia</td>\n",
       "      <td>Yosemite</td>\n",
       "      <td>167</td>\n",
       "      <td>Bird</td>\n",
       "      <td>Bonaparte's Gull</td>\n",
       "      <td>No intervention</td>\n",
       "      <td>Gull</td>\n",
       "    </tr>\n",
       "    <tr>\n",
       "      <th>29</th>\n",
       "      <td>Scaphiopus holbrookii holbrookii</td>\n",
       "      <td>Yosemite</td>\n",
       "      <td>177</td>\n",
       "      <td>Amphibian</td>\n",
       "      <td>Eastern Spadefoot</td>\n",
       "      <td>No intervention</td>\n",
       "      <td>Spadefoot</td>\n",
       "    </tr>\n",
       "  </tbody>\n",
       "</table>\n",
       "</div>"
      ],
      "text/plain": [
       "                     scientific_name     park_name  observations   category  \\\n",
       "1                     Neovison vison  GS Mountains            77     Mammal   \n",
       "6                   Spizella pusilla   Yellowstone           228       Bird   \n",
       "11             Cistothorus platensis         Bryce           114       Bird   \n",
       "23                Larus philadelphia      Yosemite           167       Bird   \n",
       "29  Scaphiopus holbrookii holbrookii      Yosemite           177  Amphibian   \n",
       "\n",
       "         common_names conservation_status last_names  \n",
       "1       American Mink     No intervention       Mink  \n",
       "6       Field Sparrow     No intervention    Sparrow  \n",
       "11         Sedge Wren     No intervention       Wren  \n",
       "23   Bonaparte's Gull     No intervention       Gull  \n",
       "29  Eastern Spadefoot     No intervention  Spadefoot  "
      ]
     },
     "execution_count": 83,
     "metadata": {},
     "output_type": "execute_result"
    }
   ],
   "source": [
    "name_split = animals.common_names.str.split(' ')\n",
    "animals['last_names'] = name_split.str[-1]\n",
    "animals.head()"
   ]
  },
  {
   "cell_type": "code",
   "execution_count": 84,
   "id": "d798a75e",
   "metadata": {},
   "outputs": [
    {
     "data": {
      "text/plain": [
       "array(['(Feral)', '(Whipsnake)', '(Yellow-Rumped)', 'Anole', 'Avocet',\n",
       "       'Badger', 'Barn-Owl', 'Barn-Owls', 'Bass', 'Bat', 'Bear', 'Beaver',\n",
       "       'Bison', 'Bittern', 'Blackbird', 'Bluebird', 'Bluegill', 'Boa',\n",
       "       'Bobcat', 'Bobolink', 'Bobwhite', 'Brant', 'Buffalo', 'Bufflehead',\n",
       "       'Bullfrog', 'Bullhead', 'Bullsnake', 'Bunting', 'Bushtit',\n",
       "       'Canvasback', 'Caracara', 'Cardinal', 'Carp', 'Catbird', 'Catfish',\n",
       "       'Cattle', 'Chat', 'Chickadee', 'Chickaree', 'Chipmunk', 'Chub',\n",
       "       \"Chuck-Will's-Widow\", 'Chukar', 'Collared-Dove', 'Condor', 'Coot',\n",
       "       'Copperhead', 'Cormorant', 'Cottontail', 'Cowbird', 'Coyote',\n",
       "       'Crane', 'Crappie', 'Creeper', 'Crossbill', 'Crow', 'Cuckoo',\n",
       "       'Curlew', 'Dace', 'Darter', 'Deer', 'Dickcissel', 'Dipper', 'Dove',\n",
       "       'Dowitcher', 'Drum', 'Duck', 'Dunlin', 'Eagle', 'Egret', 'Elk',\n",
       "       'Ensatina', 'Falcon', 'Finch', 'Fisher', 'Flicker', 'Flycatcher',\n",
       "       'Fox', 'Frog', 'Gadwall', 'Gar', 'Gnatcatcher', 'Goat', 'Godwit',\n",
       "       'Golden-Plover', 'Goldeneye', 'Goldfinch', 'Goldfish', 'Goose',\n",
       "       'Gopher', 'Goshawk', 'Grackle', 'Grayling', 'Grebe', 'Grosbeak',\n",
       "       'Grouse', 'Gull', 'Hardhead', 'Hare', 'Harrier', 'Hawk',\n",
       "       'Hellbender', 'Heron', 'Horse', 'Hummingbird', 'Ibis',\n",
       "       'Jackrabbit', 'Jaeger', 'Jay', 'Junco', 'Kestrel', 'Killdeer',\n",
       "       'Kingbird', 'Kingfisher', 'Kinglet', 'Kingsnake', 'Kite',\n",
       "       'Kittiwake', 'Knot', 'Lamprey', 'Lark', 'Lemming', 'Lion', 'Lion)',\n",
       "       'Lizard', 'Logperch', 'Longspur', 'Loon', 'Lynx', 'Madtom',\n",
       "       'Magpie', 'Mallard', 'Man', 'Marmot', 'Marten', 'Martin',\n",
       "       'Meadowlark', 'Merganser', 'Merlin', 'Mink', 'Minnow',\n",
       "       'Mockingbird', 'Mole', 'Moorhen', 'Moose', 'Mosquitofish', 'Mouse',\n",
       "       'Mudpuppy', 'Muskellunge', 'Muskrat', 'Myotis', 'Newt',\n",
       "       'Night-Heron', 'Nighthawk', 'Nightsnake', 'Nutcracker', 'Nuthatch',\n",
       "       'Oldsquaw', 'Oppossum', 'Oriole', 'Osprey', 'Otter', 'Ovenbird',\n",
       "       'Owl', 'Owls', 'Partridge', 'Parula', 'Peacock', 'Peeper',\n",
       "       'Pelican', 'Perch', 'Phainopepla', 'Phalarope', 'Pheasant',\n",
       "       'Phoebe', 'Pig', 'Pigeon', 'Pika', 'Pikeminnow', 'Pintail',\n",
       "       'Pipistrelle', 'Pipit', 'Plover', 'Poorwill', 'Porcupine',\n",
       "       'Pronghorn', 'Ptarmigan', 'Pumpkinseed', 'Pygmy-Owl', 'Quail',\n",
       "       'Rabbit', 'Raccoon', 'Racer', 'Racerunner', 'Rail', 'Rat',\n",
       "       'Rattlesnake', 'Raven', 'Redhead', 'Redhorse', 'Redpoll',\n",
       "       'Redstart', 'Ringtail', 'Roadrunner', 'Robin', 'Rosy-Finch',\n",
       "       'Ruff', 'Salamander', 'Salamanders', 'Sanderling', 'Sandpiper',\n",
       "       'Sapsucker', 'Sauger', 'Scaup', 'Scoter', 'Screech-Owl',\n",
       "       'Scrub-Jay', 'Sculpin', 'Shad', 'Sheep', 'Shiner', 'Shoveler',\n",
       "       'Shrew', 'Shrike', 'Silverside', 'Siskin', 'Skink', 'Skunk',\n",
       "       'Slider', 'Snake', 'Snakes', 'Snipe', 'Solitaire', 'Sora',\n",
       "       'Spadefoot', 'Sparrow', 'Squirrel', 'Starling', 'Stilt',\n",
       "       'Stonecat', 'Stoneroller', 'Stork', 'Storm-Petrel', 'Studfish',\n",
       "       'Sucker', 'Sunfish', 'Swallow', 'Swan', 'Swift', 'Tanager',\n",
       "       'Tattler', 'Teal', 'Tern', 'Thrasher', 'Thrush', 'Titmouse',\n",
       "       'Toad', 'Toad)', 'Towhee', 'Treecreeper', 'Treefrog', 'Trout',\n",
       "       'Turkey', 'Turnstone', 'Turtle', 'Veery', 'Vireo', 'Vole',\n",
       "       'Vulture', 'Walleye', 'Warbler', 'Warmouth', 'Watersnake',\n",
       "       'Waterthrush', 'Waxwing', 'Weasel', 'Weasel)', 'Whip-Poor-Will',\n",
       "       'Whiptail', 'Whitefish', 'Wigeon', 'Wildcat', 'Willet', 'Wolf',\n",
       "       'Wolverine', 'Wood-Pewee', 'Woodchuck', 'Woodcock', 'Woodpecker',\n",
       "       'Woodrat', 'Wormsnakes', 'Wren', 'Wrentit', 'Yellowlegs',\n",
       "       'Yellowthroat'], dtype=object)"
      ]
     },
     "execution_count": 84,
     "metadata": {},
     "output_type": "execute_result"
    }
   ],
   "source": [
    "np.sort(animals.last_names.unique())"
   ]
  },
  {
   "cell_type": "code",
   "execution_count": 85,
   "id": "c2a12ebb",
   "metadata": {},
   "outputs": [],
   "source": [
    "animals.last_names.replace('Lion)', 'Panther', inplace=True)\n",
    "animals.last_names.replace('(Feral)', 'Sheep', inplace=True)\n",
    "animals.last_names.replace(['(Whipsnake)', 'Snakes'], 'Snake', inplace=True)\n",
    "animals.last_names.replace('(Yellow-Rumped)', 'Warbler', inplace=True)\n",
    "animals.last_names.replace(['Barn-Owls', 'Barn-Owl', 'Owls', 'Pygmy-Owl', 'Screech-Owl'], 'Owl', inplace=True)\n",
    "animals.last_names.replace('Night-Heron', 'Heron', inplace=True)\n",
    "animals.last_names.replace('Weasel)', 'Weasel', inplace=True)\n",
    "animals.last_names.replace('Toad)', 'Toad', inplace=True)"
   ]
  },
  {
   "cell_type": "markdown",
   "id": "274999af",
   "metadata": {},
   "source": [
    "By looking at which animals are observed more it is possible to see that the first 3 positions are occupied in order by the bird warbler, the amphibian salamander and the bird sparrow."
   ]
  },
  {
   "cell_type": "code",
   "execution_count": 86,
   "id": "a2670301",
   "metadata": {},
   "outputs": [
    {
     "data": {
      "text/html": [
       "<div>\n",
       "<style scoped>\n",
       "    .dataframe tbody tr th:only-of-type {\n",
       "        vertical-align: middle;\n",
       "    }\n",
       "\n",
       "    .dataframe tbody tr th {\n",
       "        vertical-align: top;\n",
       "    }\n",
       "\n",
       "    .dataframe thead th {\n",
       "        text-align: right;\n",
       "    }\n",
       "</style>\n",
       "<table border=\"1\" class=\"dataframe\">\n",
       "  <thead>\n",
       "    <tr style=\"text-align: right;\">\n",
       "      <th></th>\n",
       "      <th>last_names</th>\n",
       "      <th>category</th>\n",
       "      <th>observations</th>\n",
       "    </tr>\n",
       "  </thead>\n",
       "  <tbody>\n",
       "    <tr>\n",
       "      <th>0</th>\n",
       "      <td>Warbler</td>\n",
       "      <td>Bird</td>\n",
       "      <td>33394</td>\n",
       "    </tr>\n",
       "    <tr>\n",
       "      <th>1</th>\n",
       "      <td>Salamander</td>\n",
       "      <td>Amphibian</td>\n",
       "      <td>23377</td>\n",
       "    </tr>\n",
       "    <tr>\n",
       "      <th>2</th>\n",
       "      <td>Sparrow</td>\n",
       "      <td>Bird</td>\n",
       "      <td>16278</td>\n",
       "    </tr>\n",
       "    <tr>\n",
       "      <th>3</th>\n",
       "      <td>Snake</td>\n",
       "      <td>Reptile</td>\n",
       "      <td>15857</td>\n",
       "    </tr>\n",
       "    <tr>\n",
       "      <th>4</th>\n",
       "      <td>Owl</td>\n",
       "      <td>Bird</td>\n",
       "      <td>13094</td>\n",
       "    </tr>\n",
       "    <tr>\n",
       "      <th>5</th>\n",
       "      <td>Shiner</td>\n",
       "      <td>Fish</td>\n",
       "      <td>11473</td>\n",
       "    </tr>\n",
       "    <tr>\n",
       "      <th>6</th>\n",
       "      <td>Shrew</td>\n",
       "      <td>Mammal</td>\n",
       "      <td>10348</td>\n",
       "    </tr>\n",
       "    <tr>\n",
       "      <th>7</th>\n",
       "      <td>Darter</td>\n",
       "      <td>Fish</td>\n",
       "      <td>10313</td>\n",
       "    </tr>\n",
       "    <tr>\n",
       "      <th>8</th>\n",
       "      <td>Flycatcher</td>\n",
       "      <td>Bird</td>\n",
       "      <td>10022</td>\n",
       "    </tr>\n",
       "    <tr>\n",
       "      <th>9</th>\n",
       "      <td>Bat</td>\n",
       "      <td>Mammal</td>\n",
       "      <td>9462</td>\n",
       "    </tr>\n",
       "  </tbody>\n",
       "</table>\n",
       "</div>"
      ],
      "text/plain": [
       "   last_names   category  observations\n",
       "0     Warbler       Bird         33394\n",
       "1  Salamander  Amphibian         23377\n",
       "2     Sparrow       Bird         16278\n",
       "3       Snake    Reptile         15857\n",
       "4         Owl       Bird         13094\n",
       "5      Shiner       Fish         11473\n",
       "6       Shrew     Mammal         10348\n",
       "7      Darter       Fish         10313\n",
       "8  Flycatcher       Bird         10022\n",
       "9         Bat     Mammal          9462"
      ]
     },
     "execution_count": 86,
     "metadata": {},
     "output_type": "execute_result"
    }
   ],
   "source": [
    "animals.groupby(['last_names', 'category']).observations.sum().sort_values(ascending=False).reset_index().head(10)"
   ]
  },
  {
   "cell_type": "markdown",
   "id": "8dd75058",
   "metadata": {},
   "source": [
    "Now it is possible to check the observations of the most prevalent animals per national park. We can see that Yellowstone has the highest number of observations of the most prevalent animals, and this is because it is the biggest park, with the biggest total amount of observations in all categories. "
   ]
  },
  {
   "cell_type": "code",
   "execution_count": 87,
   "id": "b7a2e1e7",
   "metadata": {},
   "outputs": [
    {
     "data": {
      "text/html": [
       "<div>\n",
       "<style scoped>\n",
       "    .dataframe tbody tr th:only-of-type {\n",
       "        vertical-align: middle;\n",
       "    }\n",
       "\n",
       "    .dataframe tbody tr th {\n",
       "        vertical-align: top;\n",
       "    }\n",
       "\n",
       "    .dataframe thead th {\n",
       "        text-align: right;\n",
       "    }\n",
       "</style>\n",
       "<table border=\"1\" class=\"dataframe\">\n",
       "  <thead>\n",
       "    <tr style=\"text-align: right;\">\n",
       "      <th></th>\n",
       "      <th>last_names</th>\n",
       "      <th>park_name</th>\n",
       "      <th>observations</th>\n",
       "    </tr>\n",
       "  </thead>\n",
       "  <tbody>\n",
       "    <tr>\n",
       "      <th>0</th>\n",
       "      <td>Salamander</td>\n",
       "      <td>Bryce</td>\n",
       "      <td>3946</td>\n",
       "    </tr>\n",
       "    <tr>\n",
       "      <th>1</th>\n",
       "      <td>Salamander</td>\n",
       "      <td>GS Mountains</td>\n",
       "      <td>3023</td>\n",
       "    </tr>\n",
       "    <tr>\n",
       "      <th>2</th>\n",
       "      <td>Salamander</td>\n",
       "      <td>Yellowstone</td>\n",
       "      <td>10234</td>\n",
       "    </tr>\n",
       "    <tr>\n",
       "      <th>3</th>\n",
       "      <td>Salamander</td>\n",
       "      <td>Yosemite</td>\n",
       "      <td>6174</td>\n",
       "    </tr>\n",
       "    <tr>\n",
       "      <th>4</th>\n",
       "      <td>Sparrow</td>\n",
       "      <td>Bryce</td>\n",
       "      <td>2777</td>\n",
       "    </tr>\n",
       "    <tr>\n",
       "      <th>5</th>\n",
       "      <td>Sparrow</td>\n",
       "      <td>GS Mountains</td>\n",
       "      <td>2134</td>\n",
       "    </tr>\n",
       "    <tr>\n",
       "      <th>6</th>\n",
       "      <td>Sparrow</td>\n",
       "      <td>Yellowstone</td>\n",
       "      <td>7027</td>\n",
       "    </tr>\n",
       "    <tr>\n",
       "      <th>7</th>\n",
       "      <td>Sparrow</td>\n",
       "      <td>Yosemite</td>\n",
       "      <td>4340</td>\n",
       "    </tr>\n",
       "    <tr>\n",
       "      <th>8</th>\n",
       "      <td>Warbler</td>\n",
       "      <td>Bryce</td>\n",
       "      <td>5760</td>\n",
       "    </tr>\n",
       "    <tr>\n",
       "      <th>9</th>\n",
       "      <td>Warbler</td>\n",
       "      <td>GS Mountains</td>\n",
       "      <td>4435</td>\n",
       "    </tr>\n",
       "    <tr>\n",
       "      <th>10</th>\n",
       "      <td>Warbler</td>\n",
       "      <td>Yellowstone</td>\n",
       "      <td>14487</td>\n",
       "    </tr>\n",
       "    <tr>\n",
       "      <th>11</th>\n",
       "      <td>Warbler</td>\n",
       "      <td>Yosemite</td>\n",
       "      <td>8712</td>\n",
       "    </tr>\n",
       "  </tbody>\n",
       "</table>\n",
       "</div>"
      ],
      "text/plain": [
       "    last_names     park_name  observations\n",
       "0   Salamander         Bryce          3946\n",
       "1   Salamander  GS Mountains          3023\n",
       "2   Salamander   Yellowstone         10234\n",
       "3   Salamander      Yosemite          6174\n",
       "4      Sparrow         Bryce          2777\n",
       "5      Sparrow  GS Mountains          2134\n",
       "6      Sparrow   Yellowstone          7027\n",
       "7      Sparrow      Yosemite          4340\n",
       "8      Warbler         Bryce          5760\n",
       "9      Warbler  GS Mountains          4435\n",
       "10     Warbler   Yellowstone         14487\n",
       "11     Warbler      Yosemite          8712"
      ]
     },
     "execution_count": 87,
     "metadata": {},
     "output_type": "execute_result"
    }
   ],
   "source": [
    "most_prevalent = animals[(animals['last_names'] == 'Warbler') |\\\n",
    "                         (animals['last_names'] == 'Salamander') |\\\n",
    "                         (animals['last_names'] == 'Sparrow')]\\\n",
    "                    .groupby(['last_names', 'park_name'])\\\n",
    "                    .observations.sum()\\\n",
    "                    .reset_index()\n",
    "most_prevalent"
   ]
  },
  {
   "cell_type": "code",
   "execution_count": 88,
   "id": "3305a199",
   "metadata": {},
   "outputs": [
    {
     "data": {
      "image/png": "[encoded data removed]",
      "text/plain": [
       "<Figure size 640x480 with 1 Axes>"
      ]
     },
     "metadata": {},
     "output_type": "display_data"
    }
   ],
   "source": [
    "sns.barplot(data=most_prevalent, x='park_name', y='observations', hue='last_names')\n",
    "plt.show()"
   ]
  },
  {
   "cell_type": "code",
   "execution_count": 89,
   "id": "d9164f7d",
   "metadata": {},
   "outputs": [
    {
     "data": {
      "text/html": [
       "<div>\n",
       "<style scoped>\n",
       "    .dataframe tbody tr th:only-of-type {\n",
       "        vertical-align: middle;\n",
       "    }\n",
       "\n",
       "    .dataframe tbody tr th {\n",
       "        vertical-align: top;\n",
       "    }\n",
       "\n",
       "    .dataframe thead th {\n",
       "        text-align: right;\n",
       "    }\n",
       "</style>\n",
       "<table border=\"1\" class=\"dataframe\">\n",
       "  <thead>\n",
       "    <tr style=\"text-align: right;\">\n",
       "      <th></th>\n",
       "      <th>category</th>\n",
       "      <th>park_name</th>\n",
       "      <th>observations</th>\n",
       "    </tr>\n",
       "  </thead>\n",
       "  <tbody>\n",
       "    <tr>\n",
       "      <th>0</th>\n",
       "      <td>Amphibian</td>\n",
       "      <td>Bryce</td>\n",
       "      <td>7380</td>\n",
       "    </tr>\n",
       "    <tr>\n",
       "      <th>1</th>\n",
       "      <td>Amphibian</td>\n",
       "      <td>GS Mountains</td>\n",
       "      <td>5707</td>\n",
       "    </tr>\n",
       "    <tr>\n",
       "      <th>2</th>\n",
       "      <td>Amphibian</td>\n",
       "      <td>Yellowstone</td>\n",
       "      <td>19440</td>\n",
       "    </tr>\n",
       "    <tr>\n",
       "      <th>3</th>\n",
       "      <td>Amphibian</td>\n",
       "      <td>Yosemite</td>\n",
       "      <td>11444</td>\n",
       "    </tr>\n",
       "    <tr>\n",
       "      <th>4</th>\n",
       "      <td>Bird</td>\n",
       "      <td>Bryce</td>\n",
       "      <td>51647</td>\n",
       "    </tr>\n",
       "    <tr>\n",
       "      <th>5</th>\n",
       "      <td>Bird</td>\n",
       "      <td>GS Mountains</td>\n",
       "      <td>37728</td>\n",
       "    </tr>\n",
       "    <tr>\n",
       "      <th>6</th>\n",
       "      <td>Bird</td>\n",
       "      <td>Yellowstone</td>\n",
       "      <td>127251</td>\n",
       "    </tr>\n",
       "    <tr>\n",
       "      <th>7</th>\n",
       "      <td>Bird</td>\n",
       "      <td>Yosemite</td>\n",
       "      <td>76207</td>\n",
       "    </tr>\n",
       "    <tr>\n",
       "      <th>8</th>\n",
       "      <td>Fish</td>\n",
       "      <td>Bryce</td>\n",
       "      <td>12423</td>\n",
       "    </tr>\n",
       "    <tr>\n",
       "      <th>9</th>\n",
       "      <td>Fish</td>\n",
       "      <td>GS Mountains</td>\n",
       "      <td>9206</td>\n",
       "    </tr>\n",
       "    <tr>\n",
       "      <th>10</th>\n",
       "      <td>Fish</td>\n",
       "      <td>Yellowstone</td>\n",
       "      <td>30574</td>\n",
       "    </tr>\n",
       "    <tr>\n",
       "      <th>11</th>\n",
       "      <td>Fish</td>\n",
       "      <td>Yosemite</td>\n",
       "      <td>18615</td>\n",
       "    </tr>\n",
       "    <tr>\n",
       "      <th>12</th>\n",
       "      <td>Mammal</td>\n",
       "      <td>Bryce</td>\n",
       "      <td>20550</td>\n",
       "    </tr>\n",
       "    <tr>\n",
       "      <th>13</th>\n",
       "      <td>Mammal</td>\n",
       "      <td>GS Mountains</td>\n",
       "      <td>15012</td>\n",
       "    </tr>\n",
       "    <tr>\n",
       "      <th>14</th>\n",
       "      <td>Mammal</td>\n",
       "      <td>Yellowstone</td>\n",
       "      <td>50795</td>\n",
       "    </tr>\n",
       "    <tr>\n",
       "      <th>15</th>\n",
       "      <td>Mammal</td>\n",
       "      <td>Yosemite</td>\n",
       "      <td>30339</td>\n",
       "    </tr>\n",
       "    <tr>\n",
       "      <th>16</th>\n",
       "      <td>Reptile</td>\n",
       "      <td>Bryce</td>\n",
       "      <td>7950</td>\n",
       "    </tr>\n",
       "    <tr>\n",
       "      <th>17</th>\n",
       "      <td>Reptile</td>\n",
       "      <td>GS Mountains</td>\n",
       "      <td>5691</td>\n",
       "    </tr>\n",
       "    <tr>\n",
       "      <th>18</th>\n",
       "      <td>Reptile</td>\n",
       "      <td>Yellowstone</td>\n",
       "      <td>19554</td>\n",
       "    </tr>\n",
       "    <tr>\n",
       "      <th>19</th>\n",
       "      <td>Reptile</td>\n",
       "      <td>Yosemite</td>\n",
       "      <td>11483</td>\n",
       "    </tr>\n",
       "  </tbody>\n",
       "</table>\n",
       "</div>"
      ],
      "text/plain": [
       "     category     park_name  observations\n",
       "0   Amphibian         Bryce          7380\n",
       "1   Amphibian  GS Mountains          5707\n",
       "2   Amphibian   Yellowstone         19440\n",
       "3   Amphibian      Yosemite         11444\n",
       "4        Bird         Bryce         51647\n",
       "5        Bird  GS Mountains         37728\n",
       "6        Bird   Yellowstone        127251\n",
       "7        Bird      Yosemite         76207\n",
       "8        Fish         Bryce         12423\n",
       "9        Fish  GS Mountains          9206\n",
       "10       Fish   Yellowstone         30574\n",
       "11       Fish      Yosemite         18615\n",
       "12     Mammal         Bryce         20550\n",
       "13     Mammal  GS Mountains         15012\n",
       "14     Mammal   Yellowstone         50795\n",
       "15     Mammal      Yosemite         30339\n",
       "16    Reptile         Bryce          7950\n",
       "17    Reptile  GS Mountains          5691\n",
       "18    Reptile   Yellowstone         19554\n",
       "19    Reptile      Yosemite         11483"
      ]
     },
     "execution_count": 89,
     "metadata": {},
     "output_type": "execute_result"
    }
   ],
   "source": [
    "#Distribution of observations of categories per national park\n",
    "categories = animals.groupby(['category', 'park_name']).observations.sum().reset_index()\n",
    "categories"
   ]
  },
  {
   "cell_type": "code",
   "execution_count": 90,
   "id": "2741016f",
   "metadata": {},
   "outputs": [
    {
     "data": {
      "image/png": "[encoded data removed]",
      "text/plain": [
       "<Figure size 640x480 with 1 Axes>"
      ]
     },
     "metadata": {},
     "output_type": "display_data"
    }
   ],
   "source": [
    "sns.barplot(data=categories, x='park_name', y='observations', hue='category')\n",
    "plt.show()"
   ]
  },
  {
   "cell_type": "markdown",
   "id": "20d692c3",
   "metadata": {},
   "source": [
    "**Summary:** The top 3 animal groups with the biggest amount of observations are the wiebler, the salamander and the sparrow. Yellowstone park is the national park with the most observations - possibly because it is the biggest one."
   ]
  },
  {
   "cell_type": "markdown",
   "id": "7bfedf20",
   "metadata": {},
   "source": [
    "### Analysis on conservation\n",
    "\n",
    "To explore the conservation of species, to both the dataframes `merge` and `animals` will be added a column that speficies if the specie is protected or not, based on the conservation status. After that, the percentage of protected species by category will be visualized."
   ]
  },
  {
   "cell_type": "code",
   "execution_count": 149,
   "id": "814c8407",
   "metadata": {},
   "outputs": [],
   "source": [
    "merge['protected'] = merge.conservation_status != 'No intervention'\n",
    "animals['protected'] = animals.conservation_status != 'No intervention'"
   ]
  },
  {
   "cell_type": "code",
   "execution_count": 148,
   "id": "6866e217",
   "metadata": {},
   "outputs": [
    {
     "data": {
      "text/html": [
       "<div>\n",
       "<style scoped>\n",
       "    .dataframe tbody tr th:only-of-type {\n",
       "        vertical-align: middle;\n",
       "    }\n",
       "\n",
       "    .dataframe tbody tr th {\n",
       "        vertical-align: top;\n",
       "    }\n",
       "\n",
       "    .dataframe thead th {\n",
       "        text-align: right;\n",
       "    }\n",
       "</style>\n",
       "<table border=\"1\" class=\"dataframe\">\n",
       "  <thead>\n",
       "    <tr style=\"text-align: right;\">\n",
       "      <th></th>\n",
       "      <th>category</th>\n",
       "      <th>not_protected</th>\n",
       "      <th>protected</th>\n",
       "      <th>percent_protected</th>\n",
       "    </tr>\n",
       "  </thead>\n",
       "  <tbody>\n",
       "    <tr>\n",
       "      <th>0</th>\n",
       "      <td>Amphibian</td>\n",
       "      <td>292</td>\n",
       "      <td>28</td>\n",
       "      <td>8.750000</td>\n",
       "    </tr>\n",
       "    <tr>\n",
       "      <th>1</th>\n",
       "      <td>Bird</td>\n",
       "      <td>1768</td>\n",
       "      <td>316</td>\n",
       "      <td>15.163148</td>\n",
       "    </tr>\n",
       "    <tr>\n",
       "      <th>2</th>\n",
       "      <td>Fish</td>\n",
       "      <td>468</td>\n",
       "      <td>40</td>\n",
       "      <td>7.874016</td>\n",
       "    </tr>\n",
       "    <tr>\n",
       "      <th>3</th>\n",
       "      <td>Mammal</td>\n",
       "      <td>704</td>\n",
       "      <td>152</td>\n",
       "      <td>17.757009</td>\n",
       "    </tr>\n",
       "    <tr>\n",
       "      <th>4</th>\n",
       "      <td>Nonvascular Plant</td>\n",
       "      <td>1312</td>\n",
       "      <td>20</td>\n",
       "      <td>1.501502</td>\n",
       "    </tr>\n",
       "    <tr>\n",
       "      <th>5</th>\n",
       "      <td>Reptile</td>\n",
       "      <td>296</td>\n",
       "      <td>20</td>\n",
       "      <td>6.329114</td>\n",
       "    </tr>\n",
       "    <tr>\n",
       "      <th>6</th>\n",
       "      <td>Vascular Plant</td>\n",
       "      <td>17696</td>\n",
       "      <td>184</td>\n",
       "      <td>1.029083</td>\n",
       "    </tr>\n",
       "  </tbody>\n",
       "</table>\n",
       "</div>"
      ],
      "text/plain": [
       "            category  not_protected  protected  percent_protected\n",
       "0          Amphibian            292         28           8.750000\n",
       "1               Bird           1768        316          15.163148\n",
       "2               Fish            468         40           7.874016\n",
       "3             Mammal            704        152          17.757009\n",
       "4  Nonvascular Plant           1312         20           1.501502\n",
       "5            Reptile            296         20           6.329114\n",
       "6     Vascular Plant          17696        184           1.029083"
      ]
     },
     "execution_count": 148,
     "metadata": {},
     "output_type": "execute_result"
    }
   ],
   "source": [
    "protected_cat = merge.groupby(['category', 'protected']).scientific_name.count().unstack().reset_index()\n",
    "protected_cat.columns = ['category', 'not_protected', 'protected']\n",
    "\n",
    "protected_cat['percent_protected'] = protected_cat['protected'] / (protected_cat['protected'] + protected_cat['not_protected']) *100\n",
    "protected_cat"
   ]
  },
  {
   "cell_type": "markdown",
   "id": "cde5964f",
   "metadata": {},
   "source": [
    "Finally, it was visualized the relationship between the number of observations per park for some protected animals. At the bottom, the information related to bats are shown."
   ]
  },
  {
   "cell_type": "code",
   "execution_count": 150,
   "id": "739db91e",
   "metadata": {},
   "outputs": [
    {
     "data": {
      "text/plain": [
       "array(['Badger', 'Bat', 'Bear', 'Beaver', 'Bittern', 'Bluebird', 'Chat',\n",
       "       'Chub', 'Condor', 'Cormorant', 'Coyote', 'Crane', 'Creeper',\n",
       "       'Crossbill', 'Cuckoo', 'Darter', 'Eagle', 'Falcon', 'Flycatcher',\n",
       "       'Frog', 'Godwit', 'Grebe', 'Grosbeak', 'Gull', 'Hare', 'Harrier',\n",
       "       'Hawk', 'Hellbender', 'Heron', 'Hummingbird', 'Ibis', 'Jay',\n",
       "       'Kingsnake', 'Kite', 'Lizard', 'Longspur', 'Loon', 'Madtom',\n",
       "       'Magpie', 'Martin', 'Merlin', 'Myotis', 'Osprey', 'Owl', 'Pelican',\n",
       "       'Phainopepla', 'Pigeon', 'Rabbit', 'Rail', 'Ringtail',\n",
       "       'Salamander', 'Sandpiper', 'Sapsucker', 'Scaup', 'Sculpin',\n",
       "       'Sheep', 'Shrew', 'Shrike', 'Snake', 'Sparrow', 'Squirrel',\n",
       "       'Sucker', 'Swallow', 'Swan', 'Swift', 'Tanager', 'Tern',\n",
       "       'Thrasher', 'Toad', 'Towhee', 'Trout', 'Vulture', 'Warbler',\n",
       "       'Wolf', 'Woodpecker', 'Wren'], dtype=object)"
      ]
     },
     "execution_count": 150,
     "metadata": {},
     "output_type": "execute_result"
    }
   ],
   "source": [
    "animals_protected = animals[animals['protected'] == True]\\\n",
    "    .groupby(['last_names', 'park_name'])\\\n",
    "    .observations.sum()\\\n",
    "    .reset_index()\n",
    "animals_protected.last_names.unique()"
   ]
  },
  {
   "cell_type": "code",
   "execution_count": 157,
   "id": "5df3e90d",
   "metadata": {},
   "outputs": [
    {
     "data": {
      "text/html": [
       "<div>\n",
       "<style scoped>\n",
       "    .dataframe tbody tr th:only-of-type {\n",
       "        vertical-align: middle;\n",
       "    }\n",
       "\n",
       "    .dataframe tbody tr th {\n",
       "        vertical-align: top;\n",
       "    }\n",
       "\n",
       "    .dataframe thead th {\n",
       "        text-align: right;\n",
       "    }\n",
       "</style>\n",
       "<table border=\"1\" class=\"dataframe\">\n",
       "  <thead>\n",
       "    <tr style=\"text-align: right;\">\n",
       "      <th></th>\n",
       "      <th>park_name</th>\n",
       "      <th>protected</th>\n",
       "      <th>observations</th>\n",
       "    </tr>\n",
       "  </thead>\n",
       "  <tbody>\n",
       "    <tr>\n",
       "      <th>0</th>\n",
       "      <td>Bryce</td>\n",
       "      <td>False</td>\n",
       "      <td>531</td>\n",
       "    </tr>\n",
       "    <tr>\n",
       "      <th>1</th>\n",
       "      <td>Bryce</td>\n",
       "      <td>True</td>\n",
       "      <td>281</td>\n",
       "    </tr>\n",
       "    <tr>\n",
       "      <th>2</th>\n",
       "      <td>GS Mountains</td>\n",
       "      <td>False</td>\n",
       "      <td>454</td>\n",
       "    </tr>\n",
       "    <tr>\n",
       "      <th>3</th>\n",
       "      <td>GS Mountains</td>\n",
       "      <td>True</td>\n",
       "      <td>221</td>\n",
       "    </tr>\n",
       "    <tr>\n",
       "      <th>4</th>\n",
       "      <td>Yellowstone</td>\n",
       "      <td>False</td>\n",
       "      <td>1299</td>\n",
       "    </tr>\n",
       "    <tr>\n",
       "      <th>5</th>\n",
       "      <td>Yellowstone</td>\n",
       "      <td>True</td>\n",
       "      <td>638</td>\n",
       "    </tr>\n",
       "    <tr>\n",
       "      <th>6</th>\n",
       "      <td>Yosemite</td>\n",
       "      <td>False</td>\n",
       "      <td>785</td>\n",
       "    </tr>\n",
       "    <tr>\n",
       "      <th>7</th>\n",
       "      <td>Yosemite</td>\n",
       "      <td>True</td>\n",
       "      <td>430</td>\n",
       "    </tr>\n",
       "  </tbody>\n",
       "</table>\n",
       "</div>"
      ],
      "text/plain": [
       "      park_name  protected  observations\n",
       "0         Bryce      False           531\n",
       "1         Bryce       True           281\n",
       "2  GS Mountains      False           454\n",
       "3  GS Mountains       True           221\n",
       "4   Yellowstone      False          1299\n",
       "5   Yellowstone       True           638\n",
       "6      Yosemite      False           785\n",
       "7      Yosemite       True           430"
      ]
     },
     "execution_count": 157,
     "metadata": {},
     "output_type": "execute_result"
    }
   ],
   "source": [
    "heron = animals[animals['last_names'] == 'Heron']\\\n",
    "    .groupby(['park_name', 'protected'])\\\n",
    "    .observations.sum()\\\n",
    "    .reset_index()\n",
    "\n",
    "heron"
   ]
  },
  {
   "cell_type": "code",
   "execution_count": 158,
   "id": "63cd5d06",
   "metadata": {},
   "outputs": [
    {
     "data": {
      "text/html": [
       "<div>\n",
       "<style scoped>\n",
       "    .dataframe tbody tr th:only-of-type {\n",
       "        vertical-align: middle;\n",
       "    }\n",
       "\n",
       "    .dataframe tbody tr th {\n",
       "        vertical-align: top;\n",
       "    }\n",
       "\n",
       "    .dataframe thead th {\n",
       "        text-align: right;\n",
       "    }\n",
       "</style>\n",
       "<table border=\"1\" class=\"dataframe\">\n",
       "  <thead>\n",
       "    <tr style=\"text-align: right;\">\n",
       "      <th></th>\n",
       "      <th>park_name</th>\n",
       "      <th>protected</th>\n",
       "      <th>observations</th>\n",
       "    </tr>\n",
       "  </thead>\n",
       "  <tbody>\n",
       "    <tr>\n",
       "      <th>0</th>\n",
       "      <td>Bryce</td>\n",
       "      <td>False</td>\n",
       "      <td>2189</td>\n",
       "    </tr>\n",
       "    <tr>\n",
       "      <th>1</th>\n",
       "      <td>Bryce</td>\n",
       "      <td>True</td>\n",
       "      <td>176</td>\n",
       "    </tr>\n",
       "    <tr>\n",
       "      <th>2</th>\n",
       "      <td>GS Mountains</td>\n",
       "      <td>False</td>\n",
       "      <td>1612</td>\n",
       "    </tr>\n",
       "    <tr>\n",
       "      <th>3</th>\n",
       "      <td>GS Mountains</td>\n",
       "      <td>True</td>\n",
       "      <td>101</td>\n",
       "    </tr>\n",
       "    <tr>\n",
       "      <th>4</th>\n",
       "      <td>Yellowstone</td>\n",
       "      <td>False</td>\n",
       "      <td>5218</td>\n",
       "    </tr>\n",
       "    <tr>\n",
       "      <th>5</th>\n",
       "      <td>Yellowstone</td>\n",
       "      <td>True</td>\n",
       "      <td>478</td>\n",
       "    </tr>\n",
       "    <tr>\n",
       "      <th>6</th>\n",
       "      <td>Yosemite</td>\n",
       "      <td>False</td>\n",
       "      <td>3064</td>\n",
       "    </tr>\n",
       "    <tr>\n",
       "      <th>7</th>\n",
       "      <td>Yosemite</td>\n",
       "      <td>True</td>\n",
       "      <td>256</td>\n",
       "    </tr>\n",
       "  </tbody>\n",
       "</table>\n",
       "</div>"
      ],
      "text/plain": [
       "      park_name  protected  observations\n",
       "0         Bryce      False          2189\n",
       "1         Bryce       True           176\n",
       "2  GS Mountains      False          1612\n",
       "3  GS Mountains       True           101\n",
       "4   Yellowstone      False          5218\n",
       "5   Yellowstone       True           478\n",
       "6      Yosemite      False          3064\n",
       "7      Yosemite       True           256"
      ]
     },
     "execution_count": 158,
     "metadata": {},
     "output_type": "execute_result"
    }
   ],
   "source": [
    "owl = animals[animals['last_names'] == 'Owl']\\\n",
    "    .groupby(['park_name', 'protected'])\\\n",
    "    .observations.sum()\\\n",
    "    .reset_index()\n",
    "\n",
    "owl"
   ]
  },
  {
   "cell_type": "code",
   "execution_count": 140,
   "id": "29163e2d",
   "metadata": {},
   "outputs": [
    {
     "data": {
      "text/html": [
       "<div>\n",
       "<style scoped>\n",
       "    .dataframe tbody tr th:only-of-type {\n",
       "        vertical-align: middle;\n",
       "    }\n",
       "\n",
       "    .dataframe tbody tr th {\n",
       "        vertical-align: top;\n",
       "    }\n",
       "\n",
       "    .dataframe thead th {\n",
       "        text-align: right;\n",
       "    }\n",
       "</style>\n",
       "<table border=\"1\" class=\"dataframe\">\n",
       "  <thead>\n",
       "    <tr style=\"text-align: right;\">\n",
       "      <th></th>\n",
       "      <th>park_name</th>\n",
       "      <th>protected</th>\n",
       "      <th>observations</th>\n",
       "    </tr>\n",
       "  </thead>\n",
       "  <tbody>\n",
       "    <tr>\n",
       "      <th>0</th>\n",
       "      <td>Bryce</td>\n",
       "      <td>False</td>\n",
       "      <td>982</td>\n",
       "    </tr>\n",
       "    <tr>\n",
       "      <th>1</th>\n",
       "      <td>Bryce</td>\n",
       "      <td>True</td>\n",
       "      <td>666</td>\n",
       "    </tr>\n",
       "    <tr>\n",
       "      <th>2</th>\n",
       "      <td>GS Mountains</td>\n",
       "      <td>False</td>\n",
       "      <td>812</td>\n",
       "    </tr>\n",
       "    <tr>\n",
       "      <th>3</th>\n",
       "      <td>GS Mountains</td>\n",
       "      <td>True</td>\n",
       "      <td>446</td>\n",
       "    </tr>\n",
       "    <tr>\n",
       "      <th>4</th>\n",
       "      <td>Yellowstone</td>\n",
       "      <td>False</td>\n",
       "      <td>2537</td>\n",
       "    </tr>\n",
       "    <tr>\n",
       "      <th>5</th>\n",
       "      <td>Yellowstone</td>\n",
       "      <td>True</td>\n",
       "      <td>1603</td>\n",
       "    </tr>\n",
       "    <tr>\n",
       "      <th>6</th>\n",
       "      <td>Yosemite</td>\n",
       "      <td>False</td>\n",
       "      <td>1528</td>\n",
       "    </tr>\n",
       "    <tr>\n",
       "      <th>7</th>\n",
       "      <td>Yosemite</td>\n",
       "      <td>True</td>\n",
       "      <td>888</td>\n",
       "    </tr>\n",
       "  </tbody>\n",
       "</table>\n",
       "</div>"
      ],
      "text/plain": [
       "      park_name  protected  observations\n",
       "0         Bryce      False           982\n",
       "1         Bryce       True           666\n",
       "2  GS Mountains      False           812\n",
       "3  GS Mountains       True           446\n",
       "4   Yellowstone      False          2537\n",
       "5   Yellowstone       True          1603\n",
       "6      Yosemite      False          1528\n",
       "7      Yosemite       True           888"
      ]
     },
     "execution_count": 140,
     "metadata": {},
     "output_type": "execute_result"
    }
   ],
   "source": [
    "bat = animals[animals['last_names'] == 'Bat']\\\n",
    "    .groupby(['park_name', 'protected'])\\\n",
    "    .observations.sum()\\\n",
    "    .reset_index()\n",
    "\n",
    "bat"
   ]
  },
  {
   "cell_type": "code",
   "execution_count": 145,
   "id": "d97b7027",
   "metadata": {},
   "outputs": [
    {
     "data": {
      "image/png": "[encoded data removed]",
      "text/plain": [
       "<Figure size 1600x400 with 1 Axes>"
      ]
     },
     "metadata": {},
     "output_type": "display_data"
    }
   ],
   "source": [
    "plt.figure(figsize=(16, 4))\n",
    "sns.barplot(x=bat.park_name, y= bat.observations, hue=bat.protected)\n",
    "plt.xlabel('National Parks')\n",
    "plt.ylabel('Number of Observations')\n",
    "plt.title('Observations of Bats per Week')\n",
    "plt.show()"
   ]
  },
  {
   "cell_type": "markdown",
   "id": "308895a2",
   "metadata": {},
   "source": [
    "# Conclusions\n",
    "\n",
    "The project was able to make several data visualizations and inferences about the various species in four of the National Parks that comprised this data set.\n",
    "\n",
    "This project was also able to answer some of the questions first posed in the beginning:\n",
    "\n",
    "- What is the distribution of conservation status for species?\n",
    "    - The vast majority of species were not part of conservation.\n",
    "- Are certain types of species more likely to be endangered?\n",
    "    - Mammals and Birds had the highest percentage of being in protection.\n",
    "- Which animal is most prevalent and what is their distribution amongst parks?\n",
    "    - the study found that warblers occurred the most number of times and they were most likely to be found in Yellowstone National Park.\n",
    "    \n",
    "### Further Research \n",
    "\n",
    "This dataset only included observations from the last 7 days which prohibits analyze changes over time. It would be curious to see how the conservation status for various species changes over time. Another piece that is missing is the Area of each park, it can be assumed that Yellowstone National Park might be much larger than the other parks which would mean that it would exhibit more observations and greater biodiversity. Lastly, if precise locations were recorded, the spatial distribution of the species could also be observed and test if these observations are spatially clustered. "
   ]
  },
  {
   "cell_type": "code",
   "execution_count": null,
   "id": "14596a04",
   "metadata": {},
   "outputs": [],
   "source": []
  }
 ],
 "metadata": {
  "kernelspec": {
   "display_name": "Python 3 (ipykernel)",
   "language": "python",
   "name": "python3"
  },
  "language_info": {
   "codemirror_mode": {
    "name": "ipython",
    "version": 3
   },
   "file_extension": ".py",
   "mimetype": "text/x-python",
   "name": "python",
   "nbconvert_exporter": "python",
   "pygments_lexer": "ipython3",
   "version": "3.10.9"
  }
 },
 "nbformat": 4,
 "nbformat_minor": 5
}
